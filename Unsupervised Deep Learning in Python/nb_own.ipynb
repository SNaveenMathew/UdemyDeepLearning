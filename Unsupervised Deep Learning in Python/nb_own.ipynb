{
 "cells": [
  {
   "cell_type": "code",
   "execution_count": 1,
   "metadata": {},
   "outputs": [],
   "source": [
    "from naive_bayes import gaussian_naive_bayes"
   ]
  },
  {
   "cell_type": "code",
   "execution_count": 2,
   "metadata": {},
   "outputs": [
    {
     "name": "stderr",
     "output_type": "stream",
     "text": [
      "C:\\Users\\Naveen\\Desktop\\Coding\\UdemyDeepLearning\\Unsupervised Deep Learning in Python\\util.py:6: FutureWarning: Method .as_matrix will be removed in a future version. Use .values instead.\n",
      "  train = read_csv(\"train.csv\").as_matrix().astype(np.float32)\n"
     ]
    }
   ],
   "source": [
    "from sklearn.decomposition import PCA\n",
    "from util import get_MNIST\n",
    "X_train, Y_train, X_test, Y_test = get_MNIST()"
   ]
  },
  {
   "cell_type": "code",
   "execution_count": 3,
   "metadata": {},
   "outputs": [
    {
     "name": "stdout",
     "output_type": "stream",
     "text": [
      "Naive Bayes train score:  0.8014634146341464\n",
      "Naive Bayes test score:  0.798\n"
     ]
    }
   ],
   "source": [
    "model1 = gaussian_naive_bayes()\n",
    "model1.fit(X_train, Y_train)\n",
    "print(\"Naive Bayes train score: \", model1.score(X_train, Y_train))\n",
    "print(\"Naive Bayes test score: \", model1.score(X_test, Y_test))"
   ]
  },
  {
   "cell_type": "code",
   "execution_count": 4,
   "metadata": {},
   "outputs": [],
   "source": [
    "pca = PCA(n_components = 50)\n",
    "Z_train = pca.fit_transform(X_train)\n",
    "Z_test = pca.transform(X_test)"
   ]
  },
  {
   "cell_type": "code",
   "execution_count": 5,
   "metadata": {},
   "outputs": [
    {
     "name": "stdout",
     "output_type": "stream",
     "text": [
      "New naive Bayes train score:  0.8723658536585366\n",
      "New naive Bayes test score:  0.87\n"
     ]
    }
   ],
   "source": [
    "model2 = gaussian_naive_bayes()\n",
    "model2.fit(Z_train, Y_train)\n",
    "print(\"New naive Bayes train score: \", model2.score(Z_train, Y_train))\n",
    "print(\"New naive Bayes test score: \", model2.score(Z_test, Y_test))"
   ]
  }
 ],
 "metadata": {
  "kernelspec": {
   "display_name": "Python 3",
   "language": "python",
   "name": "python3"
  },
  "language_info": {
   "codemirror_mode": {
    "name": "ipython",
    "version": 3
   },
   "file_extension": ".py",
   "mimetype": "text/x-python",
   "name": "python",
   "nbconvert_exporter": "python",
   "pygments_lexer": "ipython3",
   "version": "3.6.8"
  }
 },
 "nbformat": 4,
 "nbformat_minor": 2
}
